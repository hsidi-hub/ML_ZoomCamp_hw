{
 "cells": [
  {
   "cell_type": "code",
   "execution_count": 1,
   "id": "76ce39ce-2bdd-4568-a479-d7f5121406ad",
   "metadata": {},
   "outputs": [],
   "source": [
    "#!pip install wget\n",
    "#!pip install NumPy\n",
    "\n",
    "import wget\n",
    "import pandas as pd\n",
    "import numpy as np\n"
   ]
  },
  {
   "cell_type": "markdown",
   "id": "1ce27f23-466c-44fc-aa2e-9b66c635d8d8",
   "metadata": {},
   "source": [
    "## Q1. Pandas version\n"
   ]
  },
  {
   "cell_type": "code",
   "execution_count": 2,
   "id": "5fdcdac2-8a56-4898-860f-e15ac4f3dfca",
   "metadata": {},
   "outputs": [
    {
     "data": {
      "text/plain": [
       "'2.3.1'"
      ]
     },
     "execution_count": 2,
     "metadata": {},
     "output_type": "execute_result"
    }
   ],
   "source": [
    "pd.__version__"
   ]
  },
  {
   "cell_type": "markdown",
   "id": "28b42a2d-739b-4da3-9e97-df090543c849",
   "metadata": {},
   "source": [
    "### Getting the data"
   ]
  },
  {
   "cell_type": "code",
   "execution_count": null,
   "id": "17188152-3ad9-4805-b862-3f9065982dde",
   "metadata": {},
   "outputs": [],
   "source": [
    "\n",
    "url = \"https://raw.githubusercontent.com/alexeygrigorev/datasets/master/car_fuel_efficiency.csv\"  # Example CSV URL\n",
    "filename = wget.download(url)"
   ]
  },
  {
   "cell_type": "code",
   "execution_count": 26,
   "id": "f98cd3ae",
   "metadata": {},
   "outputs": [
    {
     "name": "stdout",
     "output_type": "stream",
     "text": [
      "\n",
      "File downloaded: car_fuel_efficiency (1).csv\n"
     ]
    }
   ],
   "source": [
    "print(f\"\\nFile downloaded: {filename}\")"
   ]
  },
  {
   "cell_type": "code",
   "execution_count": 27,
   "id": "ce7e853a-a17f-46d4-a66f-527a974ea115",
   "metadata": {},
   "outputs": [],
   "source": [
    "df= pd.read_csv(filename)"
   ]
  },
  {
   "cell_type": "code",
   "execution_count": 28,
   "id": "96385ea5-5c13-49a9-9799-968da8699c14",
   "metadata": {},
   "outputs": [
    {
     "data": {
      "text/html": [
       "<div>\n",
       "<style scoped>\n",
       "    .dataframe tbody tr th:only-of-type {\n",
       "        vertical-align: middle;\n",
       "    }\n",
       "\n",
       "    .dataframe tbody tr th {\n",
       "        vertical-align: top;\n",
       "    }\n",
       "\n",
       "    .dataframe thead th {\n",
       "        text-align: right;\n",
       "    }\n",
       "</style>\n",
       "<table border=\"1\" class=\"dataframe\">\n",
       "  <thead>\n",
       "    <tr style=\"text-align: right;\">\n",
       "      <th></th>\n",
       "      <th>engine_displacement</th>\n",
       "      <th>num_cylinders</th>\n",
       "      <th>horsepower</th>\n",
       "      <th>vehicle_weight</th>\n",
       "      <th>acceleration</th>\n",
       "      <th>model_year</th>\n",
       "      <th>origin</th>\n",
       "      <th>fuel_type</th>\n",
       "      <th>drivetrain</th>\n",
       "      <th>num_doors</th>\n",
       "      <th>fuel_efficiency_mpg</th>\n",
       "    </tr>\n",
       "  </thead>\n",
       "  <tbody>\n",
       "    <tr>\n",
       "      <th>0</th>\n",
       "      <td>170</td>\n",
       "      <td>3.0</td>\n",
       "      <td>159.0</td>\n",
       "      <td>3413.433759</td>\n",
       "      <td>17.7</td>\n",
       "      <td>2003</td>\n",
       "      <td>Europe</td>\n",
       "      <td>Gasoline</td>\n",
       "      <td>All-wheel drive</td>\n",
       "      <td>0.0</td>\n",
       "      <td>13.231729</td>\n",
       "    </tr>\n",
       "    <tr>\n",
       "      <th>1</th>\n",
       "      <td>130</td>\n",
       "      <td>5.0</td>\n",
       "      <td>97.0</td>\n",
       "      <td>3149.664934</td>\n",
       "      <td>17.8</td>\n",
       "      <td>2007</td>\n",
       "      <td>USA</td>\n",
       "      <td>Gasoline</td>\n",
       "      <td>Front-wheel drive</td>\n",
       "      <td>0.0</td>\n",
       "      <td>13.688217</td>\n",
       "    </tr>\n",
       "    <tr>\n",
       "      <th>2</th>\n",
       "      <td>170</td>\n",
       "      <td>NaN</td>\n",
       "      <td>78.0</td>\n",
       "      <td>3079.038997</td>\n",
       "      <td>15.1</td>\n",
       "      <td>2018</td>\n",
       "      <td>Europe</td>\n",
       "      <td>Gasoline</td>\n",
       "      <td>Front-wheel drive</td>\n",
       "      <td>0.0</td>\n",
       "      <td>14.246341</td>\n",
       "    </tr>\n",
       "    <tr>\n",
       "      <th>3</th>\n",
       "      <td>220</td>\n",
       "      <td>4.0</td>\n",
       "      <td>NaN</td>\n",
       "      <td>2542.392402</td>\n",
       "      <td>20.2</td>\n",
       "      <td>2009</td>\n",
       "      <td>USA</td>\n",
       "      <td>Diesel</td>\n",
       "      <td>All-wheel drive</td>\n",
       "      <td>2.0</td>\n",
       "      <td>16.912736</td>\n",
       "    </tr>\n",
       "    <tr>\n",
       "      <th>4</th>\n",
       "      <td>210</td>\n",
       "      <td>1.0</td>\n",
       "      <td>140.0</td>\n",
       "      <td>3460.870990</td>\n",
       "      <td>14.4</td>\n",
       "      <td>2009</td>\n",
       "      <td>Europe</td>\n",
       "      <td>Gasoline</td>\n",
       "      <td>All-wheel drive</td>\n",
       "      <td>2.0</td>\n",
       "      <td>12.488369</td>\n",
       "    </tr>\n",
       "  </tbody>\n",
       "</table>\n",
       "</div>"
      ],
      "text/plain": [
       "   engine_displacement  num_cylinders  horsepower  vehicle_weight  \\\n",
       "0                  170            3.0       159.0     3413.433759   \n",
       "1                  130            5.0        97.0     3149.664934   \n",
       "2                  170            NaN        78.0     3079.038997   \n",
       "3                  220            4.0         NaN     2542.392402   \n",
       "4                  210            1.0       140.0     3460.870990   \n",
       "\n",
       "   acceleration  model_year  origin fuel_type         drivetrain  num_doors  \\\n",
       "0          17.7        2003  Europe  Gasoline    All-wheel drive        0.0   \n",
       "1          17.8        2007     USA  Gasoline  Front-wheel drive        0.0   \n",
       "2          15.1        2018  Europe  Gasoline  Front-wheel drive        0.0   \n",
       "3          20.2        2009     USA    Diesel    All-wheel drive        2.0   \n",
       "4          14.4        2009  Europe  Gasoline    All-wheel drive        2.0   \n",
       "\n",
       "   fuel_efficiency_mpg  \n",
       "0            13.231729  \n",
       "1            13.688217  \n",
       "2            14.246341  \n",
       "3            16.912736  \n",
       "4            12.488369  "
      ]
     },
     "execution_count": 28,
     "metadata": {},
     "output_type": "execute_result"
    }
   ],
   "source": [
    "df.head()"
   ]
  },
  {
   "cell_type": "markdown",
   "id": "ccd8750a-dd65-4b3f-838e-8a83023079e5",
   "metadata": {},
   "source": [
    "## Q2. Records count"
   ]
  },
  {
   "cell_type": "code",
   "execution_count": 29,
   "id": "3c59d83f",
   "metadata": {},
   "outputs": [
    {
     "data": {
      "text/plain": [
       "9704"
      ]
     },
     "execution_count": 29,
     "metadata": {},
     "output_type": "execute_result"
    }
   ],
   "source": [
    "len(df)"
   ]
  },
  {
   "cell_type": "markdown",
   "id": "0ef4b4c8-e637-47a4-9850-9b461e80c9fb",
   "metadata": {},
   "source": [
    "## Q3. Fuel types"
   ]
  },
  {
   "cell_type": "code",
   "execution_count": 30,
   "id": "1c9a19fe-6881-4246-b2a5-6c8b2f1086f9",
   "metadata": {},
   "outputs": [
    {
     "data": {
      "text/plain": [
       "fuel_type\n",
       "Gasoline    4898\n",
       "Diesel      4806\n",
       "Name: count, dtype: int64"
      ]
     },
     "execution_count": 30,
     "metadata": {},
     "output_type": "execute_result"
    }
   ],
   "source": [
    "df.fuel_type.value_counts()"
   ]
  },
  {
   "cell_type": "code",
   "execution_count": 31,
   "id": "5ac2e18d-63ac-4810-aafd-81a2bd5974ae",
   "metadata": {},
   "outputs": [],
   "source": [
    "# there are 2 fuel types"
   ]
  },
  {
   "cell_type": "markdown",
   "id": "fd4cf016-711d-4914-bed7-cf761d9793d2",
   "metadata": {},
   "source": [
    "## Q4. Missing values"
   ]
  },
  {
   "cell_type": "code",
   "execution_count": 32,
   "id": "1d165e43-8af8-44cc-9066-c70465d52cd5",
   "metadata": {},
   "outputs": [
    {
     "data": {
      "text/plain": [
       "num_cylinders    482\n",
       "horsepower       708\n",
       "acceleration     930\n",
       "num_doors        502\n",
       "dtype: int64"
      ]
     },
     "execution_count": 32,
     "metadata": {},
     "output_type": "execute_result"
    }
   ],
   "source": [
    "missing_counts= df.isna().sum()\n",
    "missing_counts[missing_counts>0]"
   ]
  },
  {
   "cell_type": "code",
   "execution_count": 33,
   "id": "ccbeebb9-3fe3-4a18-b5fc-3e1f6592cb24",
   "metadata": {},
   "outputs": [
    {
     "name": "stdout",
     "output_type": "stream",
     "text": [
      "There are 4  columns with missing values\n"
     ]
    }
   ],
   "source": [
    "missing_counts= df.isna().sum()\n",
    "print('There are', missing_counts[missing_counts>0].count(),' columns with missing values')\n"
   ]
  },
  {
   "cell_type": "markdown",
   "id": "93ddbc18-2e74-4477-acc5-6bd63b319be2",
   "metadata": {},
   "source": [
    "## Q5. Max fuel efficiency"
   ]
  },
  {
   "cell_type": "code",
   "execution_count": 34,
   "id": "a7b3d2cf-b418-45cd-92cd-f6ee5ed75ae2",
   "metadata": {},
   "outputs": [
    {
     "data": {
      "text/plain": [
       "origin\n",
       "Asia      23.759123\n",
       "Europe    25.967222\n",
       "USA       24.971452\n",
       "Name: fuel_efficiency_mpg, dtype: float64"
      ]
     },
     "execution_count": 34,
     "metadata": {},
     "output_type": "execute_result"
    }
   ],
   "source": [
    "df.groupby('origin')['fuel_efficiency_mpg'].max()"
   ]
  },
  {
   "cell_type": "code",
   "execution_count": 35,
   "id": "bcff893b-2777-462a-83a0-c556810d1145",
   "metadata": {},
   "outputs": [
    {
     "data": {
      "text/plain": [
       "np.float64(23.76)"
      ]
     },
     "execution_count": 35,
     "metadata": {},
     "output_type": "execute_result"
    }
   ],
   "source": [
    "max_value= df.loc[df.origin=='Asia'].fuel_efficiency_mpg.max()\n",
    "rounded_max =round(max_value,2)\n",
    "rounded_max"
   ]
  },
  {
   "cell_type": "markdown",
   "id": "3bfccf5d-5c9e-497f-a833-b45713ecbe7a",
   "metadata": {},
   "source": [
    "## Q6. Median value of horsepower\n",
    "### 1-  Median value "
   ]
  },
  {
   "cell_type": "code",
   "execution_count": 36,
   "id": "fe295718-19d5-4018-b51b-e39b089b1f30",
   "metadata": {},
   "outputs": [
    {
     "data": {
      "text/plain": [
       "np.float64(149.0)"
      ]
     },
     "execution_count": 36,
     "metadata": {},
     "output_type": "execute_result"
    }
   ],
   "source": [
    "med_value= df.horsepower.median()\n",
    "med_value"
   ]
  },
  {
   "cell_type": "markdown",
   "id": "1395163d-4dd6-4c83-a4ea-577895af8783",
   "metadata": {},
   "source": [
    "### 2-  most frequent value "
   ]
  },
  {
   "cell_type": "code",
   "execution_count": 37,
   "id": "5ee5514d-ec7d-48f8-9b57-183b98c7db6b",
   "metadata": {},
   "outputs": [
    {
     "data": {
      "text/plain": [
       "horsepower\n",
       "152.0    142\n",
       "145.0    141\n",
       "151.0    134\n",
       "Name: count, dtype: int64"
      ]
     },
     "execution_count": 37,
     "metadata": {},
     "output_type": "execute_result"
    }
   ],
   "source": [
    "df.horsepower.value_counts().head(3)"
   ]
  },
  {
   "cell_type": "markdown",
   "id": "b547a0ab-60ac-426d-84d9-f43206e3b827",
   "metadata": {},
   "source": [
    "### 3- fill the missing values"
   ]
  },
  {
   "cell_type": "code",
   "execution_count": 38,
   "id": "758888cf-a98b-41c2-8589-ffe80e484d2a",
   "metadata": {},
   "outputs": [
    {
     "name": "stderr",
     "output_type": "stream",
     "text": [
      "/tmp/ipykernel_1930/238572514.py:1: FutureWarning: A value is trying to be set on a copy of a DataFrame or Series through chained assignment using an inplace method.\n",
      "The behavior will change in pandas 3.0. This inplace method will never work because the intermediate object on which we are setting values always behaves as a copy.\n",
      "\n",
      "For example, when doing 'df[col].method(value, inplace=True)', try using 'df.method({col: value}, inplace=True)' or df[col] = df[col].method(value) instead, to perform the operation inplace on the original object.\n",
      "\n",
      "\n",
      "  df.horsepower.fillna(152,inplace =True)\n"
     ]
    }
   ],
   "source": [
    "df.horsepower.fillna(152,inplace =True)"
   ]
  },
  {
   "cell_type": "markdown",
   "id": "6aa6fdd4-d10b-415c-96e9-6416bb73d53a",
   "metadata": {},
   "source": [
    "### 4- New Median "
   ]
  },
  {
   "cell_type": "code",
   "execution_count": 39,
   "id": "fe382318",
   "metadata": {},
   "outputs": [
    {
     "name": "stdout",
     "output_type": "stream",
     "text": [
      "The new median after fillna with the most frequent value is : 152.0\n"
     ]
    }
   ],
   "source": [
    "new_med= df.horsepower.median()\n",
    "print('The new median after fillna with the most frequent value is :',new_med)"
   ]
  },
  {
   "cell_type": "code",
   "execution_count": 40,
   "id": "b86c6130-b662-4e97-a05f-fd89197d5b6f",
   "metadata": {},
   "outputs": [
    {
     "data": {
      "text/plain": [
       "np.int64(0)"
      ]
     },
     "execution_count": 40,
     "metadata": {},
     "output_type": "execute_result"
    }
   ],
   "source": [
    "df.horsepower.isna().sum()"
   ]
  },
  {
   "cell_type": "markdown",
   "id": "15886d39-bbbe-4459-be1f-6339950933a2",
   "metadata": {},
   "source": [
    "## Q7. Sum of weights"
   ]
  },
  {
   "cell_type": "markdown",
   "id": "3fd18196-11c6-4764-94b6-7bf216833765",
   "metadata": {},
   "source": [
    "### 1- Select all the cars from Asia\n"
   ]
  },
  {
   "cell_type": "code",
   "execution_count": 41,
   "id": "b7e92a6c-9172-4351-ad8f-a80a20cd1093",
   "metadata": {},
   "outputs": [],
   "source": [
    "df_Asia_Cars = df.loc[df.origin=='Asia']"
   ]
  },
  {
   "cell_type": "markdown",
   "id": "a42795a8-513d-40d2-a911-78275695623d",
   "metadata": {},
   "source": [
    "### 2- Select only columns vehicle_weight and model_year"
   ]
  },
  {
   "cell_type": "code",
   "execution_count": 42,
   "id": "33c75fe7-1ef7-45fe-b505-44030310240b",
   "metadata": {},
   "outputs": [],
   "source": [
    "df_Asia_Cars= df_Asia_Cars[['vehicle_weight' ,'model_year']]"
   ]
  },
  {
   "cell_type": "markdown",
   "id": "50bef3bb-1111-4e21-9cc1-cc4be7c68ae1",
   "metadata": {},
   "source": [
    "### 3- Select the first 7 values"
   ]
  },
  {
   "cell_type": "code",
   "execution_count": 43,
   "id": "c05f29fb-181f-4bdc-953c-98d8639c6286",
   "metadata": {},
   "outputs": [],
   "source": [
    "df_Asia_Cars= df_Asia_Cars.head(7)"
   ]
  },
  {
   "cell_type": "markdown",
   "id": "f6aeee9c-822c-48b9-9492-56e6b445b52a",
   "metadata": {},
   "source": [
    "### 4- Get the underlying NumPy array. Let's call it X."
   ]
  },
  {
   "cell_type": "code",
   "execution_count": 44,
   "id": "7c0e41e3-18ce-4eb6-a765-aa717f8e500f",
   "metadata": {},
   "outputs": [],
   "source": [
    "\n",
    "X= df_Asia_Cars.values"
   ]
  },
  {
   "cell_type": "markdown",
   "id": "a2a70365",
   "metadata": {},
   "source": []
  },
  {
   "cell_type": "markdown",
   "id": "7b66ebd0",
   "metadata": {},
   "source": [
    "### 5- Compute matrix-matrix multiplication between the transpose of X and X. To get the transpose, use X.T. Let's call the result XTX."
   ]
  },
  {
   "cell_type": "code",
   "execution_count": 45,
   "id": "c6425b60",
   "metadata": {},
   "outputs": [],
   "source": [
    "XTX = X.T.dot(X)"
   ]
  },
  {
   "cell_type": "markdown",
   "id": "f9529944",
   "metadata": {},
   "source": [
    "### 6- Invert XTX."
   ]
  },
  {
   "cell_type": "code",
   "execution_count": 46,
   "id": "85bc3a30",
   "metadata": {},
   "outputs": [],
   "source": [
    "XTX_invrt= np.linalg.inv(XTX)"
   ]
  },
  {
   "cell_type": "markdown",
   "id": "85f3ebea",
   "metadata": {},
   "source": [
    "### 7- Create an array y with values [1100, 1300, 800, 900, 1000, 1100, 1200]."
   ]
  },
  {
   "cell_type": "code",
   "execution_count": 47,
   "id": "075c9d60",
   "metadata": {},
   "outputs": [],
   "source": [
    "y=np.array([1100, 1300, 800, 900, 1000, 1100, 1200])"
   ]
  },
  {
   "cell_type": "markdown",
   "id": "241397aa",
   "metadata": {},
   "source": [
    "### 8- Multiply the inverse of XTX with the transpose of X, and then multiply the result by y. Call the result w."
   ]
  },
  {
   "cell_type": "code",
   "execution_count": 48,
   "id": "f089b0e1",
   "metadata": {},
   "outputs": [],
   "source": [
    "\n",
    "XTXX = XTX_invrt.dot(X.T)"
   ]
  },
  {
   "cell_type": "code",
   "execution_count": 49,
   "id": "57a8d3a3",
   "metadata": {},
   "outputs": [],
   "source": [
    "result= XTXX.dot(y)"
   ]
  },
  {
   "cell_type": "markdown",
   "id": "3e571e0c",
   "metadata": {},
   "source": [
    "### 9- Sum of all the elements of the result"
   ]
  },
  {
   "cell_type": "code",
   "execution_count": 50,
   "id": "ea1a43e0",
   "metadata": {},
   "outputs": [
    {
     "data": {
      "text/plain": [
       "np.float64(0.5187709081074016)"
      ]
     },
     "execution_count": 50,
     "metadata": {},
     "output_type": "execute_result"
    }
   ],
   "source": [
    "result.sum()"
   ]
  },
  {
   "cell_type": "code",
   "execution_count": null,
   "id": "6410611f",
   "metadata": {},
   "outputs": [],
   "source": []
  },
  {
   "cell_type": "code",
   "execution_count": null,
   "id": "f49ba7f3",
   "metadata": {},
   "outputs": [],
   "source": []
  },
  {
   "cell_type": "code",
   "execution_count": null,
   "id": "808e6816",
   "metadata": {},
   "outputs": [],
   "source": []
  }
 ],
 "metadata": {
  "kernelspec": {
   "display_name": "Python 3",
   "language": "python",
   "name": "python3"
  },
  "language_info": {
   "codemirror_mode": {
    "name": "ipython",
    "version": 3
   },
   "file_extension": ".py",
   "mimetype": "text/x-python",
   "name": "python",
   "nbconvert_exporter": "python",
   "pygments_lexer": "ipython3",
   "version": "3.12.1"
  }
 },
 "nbformat": 4,
 "nbformat_minor": 5
}
